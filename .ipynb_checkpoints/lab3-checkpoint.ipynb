{
 "cells": [
  {
   "cell_type": "markdown",
   "id": "97018cc2-c100-4f35-a749-0d09ae194cc4",
   "metadata": {},
   "source": [
    "# Lab 3: Meshes and Attributes"
   ]
  },
  {
   "cell_type": "markdown",
   "id": "0ac7c871-7e27-4350-ae0c-5cc4d1057507",
   "metadata": {},
   "source": [
    "Learning objectives: \n",
    "\n",
    "- After completing this lab, students will be able to:\n",
    "- Build custom 3D meshes using vertex and triangle data.\n",
    "- Apply scalar and vector attributes to influence rendering.\n",
    "- Explore and compare visualizations using per-vertex and per-face (triangle) attributes."
   ]
  },
  {
   "cell_type": "markdown",
   "id": "f090fc06-4e6a-46f6-bb1e-58ab69c2b722",
   "metadata": {},
   "source": [
    "## Theoretical Background: Meshes and Attributes\n",
    "\n",
    "### What is a Mesh?\n",
    "\n",
    "In 3D computer graphics, a **mesh** is a collection of vertices, edges, and faces that define the shape of a 3D object. It is the most common representation for rendering complex surfaces and models. Typically, faces are defined as **triangles** (or sometimes quadrilaterals), as triangles are simple, efficient, and always lie on a plane. A mesh can represent anything from basic geometric shapes (like cubes or spheres) to highly detailed scanned or simulated models.\n",
    "\n",
    "A mesh is made up of:\n",
    "- **Vertices**: Points in 3D space, each with an (x, y, z) coordinate.\n",
    "- **Indices**: Groups of vertex indices that form triangular faces.\n",
    "- **Topology**: The connectivity information that defines how triangles share edges and vertices.\n",
    "\n",
    "---\n",
    "\n",
    "### What are Attributes?\n",
    "\n",
    "**Attributes** are additional data values associated with the vertices or faces of a mesh. These attributes influence how the mesh is rendered, colored, and shaded.\n",
    "\n",
    "Types of common attributes:\n",
    "- **Scalar attributes** (e.g., temperature, height, pressure) — typically used to generate color maps.\n",
    "- **Vector attributes** (e.g., normals, flow directions) — used for lighting and directional encoding.\n",
    "- **Face (triangle) attributes** — used to apply labels, regions, or segmentation colors.\n",
    "\n",
    "Attributes can be associated with:\n",
    "- **Vertices** (per-vertex): Smooth gradients and continuous color transitions.\n",
    "- **Faces** (per-face or per-triangle): Hard boundaries and discrete classifications.\n",
    "\n",
    "---\n",
    "\n",
    "### Why Use Attributes?\n",
    "\n",
    "Attributes allow for **data-driven visualization**, enabling users to:\n",
    "- Visualize physical properties (height, stress, temperature).\n",
    "- Add surface details without modifying geometry.\n",
    "- Encode categories or segmentation labels for analysis.\n",
    "- Simulate realistic lighting using surface normals.\n",
    "\n",
    "---\n",
    "\n",
    "Therefore, meshes define the **geometry** of 3D objects, while attributes define their **appearance and meaning**. By combining geometry with scalar or vector attributes, we unlock powerful visualization capabilities — from scientific simulations and medical imaging to game graphics and 3D modeling.\n"
   ]
  },
  {
   "cell_type": "code",
   "execution_count": 1,
   "id": "5b451a9f-3454-4984-9f0b-5c3cf4c7b9cb",
   "metadata": {},
   "outputs": [
    {
     "name": "stdout",
     "output_type": "stream",
     "text": [
      "Requirement already satisfied: k3d in c:\\users\\arija\\anaconda3\\lib\\site-packages (2.16.1)\n",
      "Requirement already satisfied: ipywidgets<9.0.0,>=7.0.0 in c:\\users\\arija\\anaconda3\\lib\\site-packages (from k3d) (8.1.5)\n",
      "Requirement already satisfied: msgpack in c:\\users\\arija\\anaconda3\\lib\\site-packages (from k3d) (1.0.3)\n",
      "Requirement already satisfied: numpy in c:\\users\\arija\\anaconda3\\lib\\site-packages (from k3d) (1.26.4)\n",
      "Requirement already satisfied: traitlets in c:\\users\\arija\\anaconda3\\lib\\site-packages (from k3d) (5.14.3)\n",
      "Requirement already satisfied: traittypes in c:\\users\\arija\\anaconda3\\lib\\site-packages (from k3d) (0.2.1)\n",
      "Requirement already satisfied: comm>=0.1.3 in c:\\users\\arija\\anaconda3\\lib\\site-packages (from ipywidgets<9.0.0,>=7.0.0->k3d) (0.2.1)\n",
      "Requirement already satisfied: ipython>=6.1.0 in c:\\users\\arija\\anaconda3\\lib\\site-packages (from ipywidgets<9.0.0,>=7.0.0->k3d) (8.27.0)\n",
      "Requirement already satisfied: widgetsnbextension~=4.0.12 in c:\\users\\arija\\anaconda3\\lib\\site-packages (from ipywidgets<9.0.0,>=7.0.0->k3d) (4.0.13)\n",
      "Requirement already satisfied: jupyterlab-widgets~=3.0.12 in c:\\users\\arija\\anaconda3\\lib\\site-packages (from ipywidgets<9.0.0,>=7.0.0->k3d) (3.0.13)\n",
      "Requirement already satisfied: decorator in c:\\users\\arija\\anaconda3\\lib\\site-packages (from ipython>=6.1.0->ipywidgets<9.0.0,>=7.0.0->k3d) (5.1.1)\n",
      "Requirement already satisfied: jedi>=0.16 in c:\\users\\arija\\anaconda3\\lib\\site-packages (from ipython>=6.1.0->ipywidgets<9.0.0,>=7.0.0->k3d) (0.19.1)\n",
      "Requirement already satisfied: matplotlib-inline in c:\\users\\arija\\anaconda3\\lib\\site-packages (from ipython>=6.1.0->ipywidgets<9.0.0,>=7.0.0->k3d) (0.1.6)\n",
      "Requirement already satisfied: prompt-toolkit<3.1.0,>=3.0.41 in c:\\users\\arija\\anaconda3\\lib\\site-packages (from ipython>=6.1.0->ipywidgets<9.0.0,>=7.0.0->k3d) (3.0.43)\n",
      "Requirement already satisfied: pygments>=2.4.0 in c:\\users\\arija\\anaconda3\\lib\\site-packages (from ipython>=6.1.0->ipywidgets<9.0.0,>=7.0.0->k3d) (2.15.1)\n",
      "Requirement already satisfied: stack-data in c:\\users\\arija\\anaconda3\\lib\\site-packages (from ipython>=6.1.0->ipywidgets<9.0.0,>=7.0.0->k3d) (0.2.0)\n",
      "Requirement already satisfied: colorama in c:\\users\\arija\\anaconda3\\lib\\site-packages (from ipython>=6.1.0->ipywidgets<9.0.0,>=7.0.0->k3d) (0.4.6)\n",
      "Requirement already satisfied: parso<0.9.0,>=0.8.3 in c:\\users\\arija\\anaconda3\\lib\\site-packages (from jedi>=0.16->ipython>=6.1.0->ipywidgets<9.0.0,>=7.0.0->k3d) (0.8.3)\n",
      "Requirement already satisfied: wcwidth in c:\\users\\arija\\anaconda3\\lib\\site-packages (from prompt-toolkit<3.1.0,>=3.0.41->ipython>=6.1.0->ipywidgets<9.0.0,>=7.0.0->k3d) (0.2.5)\n",
      "Requirement already satisfied: executing in c:\\users\\arija\\anaconda3\\lib\\site-packages (from stack-data->ipython>=6.1.0->ipywidgets<9.0.0,>=7.0.0->k3d) (0.8.3)\n",
      "Requirement already satisfied: asttokens in c:\\users\\arija\\anaconda3\\lib\\site-packages (from stack-data->ipython>=6.1.0->ipywidgets<9.0.0,>=7.0.0->k3d) (2.0.5)\n",
      "Requirement already satisfied: pure-eval in c:\\users\\arija\\anaconda3\\lib\\site-packages (from stack-data->ipython>=6.1.0->ipywidgets<9.0.0,>=7.0.0->k3d) (0.2.2)\n",
      "Requirement already satisfied: six in c:\\users\\arija\\anaconda3\\lib\\site-packages (from asttokens->stack-data->ipython>=6.1.0->ipywidgets<9.0.0,>=7.0.0->k3d) (1.16.0)\n"
     ]
    }
   ],
   "source": [
    "!pip install k3d"
   ]
  },
  {
   "cell_type": "code",
   "execution_count": 3,
   "id": "2118142a-2d66-449e-beca-c99a5437640b",
   "metadata": {},
   "outputs": [],
   "source": [
    "import k3d\n",
    "import numpy as np"
   ]
  },
  {
   "cell_type": "markdown",
   "id": "3897b1b4-ab68-4496-a98a-7a32da49f410",
   "metadata": {},
   "source": [
    "## Example 1. Creating a Simple Colored Triangle Mesh\n",
    "\n",
    "A simple colored triangle mesh is the foundational building block in 3D graphics. It involves defining a set of vertices (points in 3D space) and connecting them using indices to form triangular faces. Each triangle is rendered by connecting three vertices, and together they can represent complex shapes. In this example, a square surface is created by defining four vertices and connecting them with two triangles. The mesh is then rendered using a uniform color, which gives it a flat, consistent appearance. This approach helps students understand the core structure of mesh data — vertex positions and triangle connectivity — and how it is used to define and visualize 3D surfaces.\n",
    "\n",
    "In the following example, we will define a basic triangular surface (e.g., a square made of two triangles) and apply a single color to the entire mesh."
   ]
  },
  {
   "cell_type": "code",
   "execution_count": 56,
   "id": "4f83ad44-a723-483f-acbe-0baae83d6330",
   "metadata": {},
   "outputs": [
    {
     "data": {
      "application/vnd.jupyter.widget-view+json": {
       "model_id": "e61f468bcb294a95baef70fce007c6b9",
       "version_major": 2,
       "version_minor": 0
      },
      "text/plain": [
       "Output()"
      ]
     },
     "metadata": {},
     "output_type": "display_data"
    }
   ],
   "source": [
    "# Define four vertices of a square in 3D space\n",
    "vertices = np.array([\n",
    "    [0, 0, 0],\n",
    "    [1, 0, 0],\n",
    "    [1, 1, 0],\n",
    "    [0, 1, 0]\n",
    "], dtype=np.float32)\n",
    "\n",
    "# Define two triangles (faces) using vertex indices\n",
    "indices = np.array([\n",
    "    [0, 1, 2],\n",
    "    [0, 2, 3]\n",
    "], dtype=np.uint32)\n",
    "\n",
    "# Create the mesh\n",
    "plot = k3d.plot()\n",
    "mesh = k3d.mesh(vertices, indices, color=0x00aaff, wireframe=True)\n",
    "plot += mesh\n",
    "plot.display()\n"
   ]
  },
  {
   "cell_type": "markdown",
   "id": "6c1bfaca-8fd6-4315-9d71-9028fad496d6",
   "metadata": {},
   "source": [
    "In the example above we have shown how to manually build a mesh from scratch by defining its vertices and faces (triangles), and rendering it with a solid color and visible wireframe."
   ]
  },
  {
   "cell_type": "markdown",
   "id": "43cdd5fe-e9ea-4c0a-a786-98c0f9df4413",
   "metadata": {},
   "source": [
    "## Example 2. Adding Per-Vertex Scalar Attributes (e.g. Height Coloring)\n",
    "\n",
    "Per-vertex scalar attributes allow us to enhance mesh visualizations by encoding data directly onto the surface. Instead of displaying a uniform color, we assign a scalar value to each vertex — for example, the Z-coordinate representing height — and use it to generate a color map. This technique creates a gradient effect across the mesh, visually representing changes in elevation, intensity, or other scalar fields. In practice, this method is widely used in scientific and engineering applications to display terrain height, temperature, pressure, or other measurements over a 3D surface. By mapping these attributes to colors, we gain a more informative and intuitive understanding of the underlying data.\n",
    "\n",
    "In the following example, we will use a scalar value per vertex (e.g. Z coordinate) to color the mesh based on height."
   ]
  },
  {
   "cell_type": "code",
   "execution_count": 58,
   "id": "6ca174d2-7ddd-4e4c-9795-5b1767512403",
   "metadata": {},
   "outputs": [
    {
     "data": {
      "application/vnd.jupyter.widget-view+json": {
       "model_id": "c80279792aa14405ad1511a4fb0b87b4",
       "version_major": 2,
       "version_minor": 0
      },
      "text/plain": [
       "Output()"
      ]
     },
     "metadata": {},
     "output_type": "display_data"
    }
   ],
   "source": [
    "z = vertices[:, 2]  # Z-values as scalar attribute (here all 0s for a flat surface)\n",
    "colors = (z - z.min()) / (z.ptp() + 1e-8) * 0xFFFFFF  # Normalize and scale\n",
    "\n",
    "plot = k3d.plot()\n",
    "mesh = k3d.mesh(vertices, indices, attribute=colors.astype(np.float32), wireframe=False)\n",
    "plot += mesh\n",
    "plot.display()"
   ]
  },
  {
   "cell_type": "markdown",
   "id": "9d5892b0-c7b2-4728-8755-9f622385ace7",
   "metadata": {},
   "source": [
    "In the example above, we have used a scalar value per vertex to color the mesh based on height. The mesh is now colored based on the scalar field (Z values), allowing you to encode height or intensity data visually."
   ]
  },
  {
   "cell_type": "markdown",
   "id": "e5df15cd-5e7f-4300-ace4-f06b01e870be",
   "metadata": {},
   "source": [
    "## Example 3. Visualizing a Wavy Surface with Scalar Coloring\n",
    "\n",
    "A wavy surface is a visually compelling way to demonstrate how geometry and scalar attributes interact in 3D mesh visualization. In this example, the Z-coordinate of each vertex is defined using a mathematical function, such as a sine wave, to simulate a rippled or undulating surface. The resulting height values are then used as scalar attributes to color the mesh. This creates a smooth gradient that not only shows the shape of the surface but also encodes additional information through color variation. Such visualizations are commonly used in physics, geography, and fluid simulations to illustrate wave propagation, energy distribution, or terrain patterns in a highly interpretable form.\n",
    "\n",
    "In the following example, we will create a wave surface (e.g., sine-based) and visualize it using per-vertex scalar coloring."
   ]
  },
  {
   "cell_type": "code",
   "execution_count": 60,
   "id": "17c3c1cf-9d7f-4caa-b96e-05a12078b9cc",
   "metadata": {},
   "outputs": [
    {
     "data": {
      "application/vnd.jupyter.widget-view+json": {
       "model_id": "65049c26f00d465696f0bd8cb5b1fe20",
       "version_major": 2,
       "version_minor": 0
      },
      "text/plain": [
       "Output()"
      ]
     },
     "metadata": {},
     "output_type": "display_data"
    }
   ],
   "source": [
    "x, y = np.meshgrid(np.linspace(-2, 2, 40), np.linspace(-2, 2, 40))\n",
    "z = np.sin(x**2 + y**2)\n",
    "\n",
    "vertices = np.column_stack((x.ravel(), y.ravel(), z.ravel()))\n",
    "\n",
    "# Build triangle indices\n",
    "faces = []\n",
    "res = x.shape[0]\n",
    "for i in range(res - 1):\n",
    "    for j in range(res - 1):\n",
    "        idx = i * res + j\n",
    "        faces.append([idx, idx + 1, idx + res])\n",
    "        faces.append([idx + 1, idx + res + 1, idx + res])\n",
    "\n",
    "indices = np.array(faces, dtype=np.uint32)\n",
    "\n",
    "# Use Z as scalar attribute\n",
    "colors = ((z.ravel() - z.min()) / (z.ptp() + 1e-8)) * 0xFFFFFF\n",
    "\n",
    "plot = k3d.plot()\n",
    "mesh = k3d.mesh(vertices.astype(np.float32), indices, attribute=colors.astype(np.float32))\n",
    "plot += mesh\n",
    "plot.display()\n"
   ]
  },
  {
   "cell_type": "markdown",
   "id": "092f8688-e015-49e0-a7fd-bb46c42aa814",
   "metadata": {},
   "source": [
    " We can see that we have created a 3D function surface and color it using the Z-values. This is similar to topographic or heatmap-style visualization."
   ]
  },
  {
   "cell_type": "markdown",
   "id": "f62b0c3a-d938-44bc-990e-70f781e7ac7c",
   "metadata": {},
   "source": [
    "## Example 4. Per-Triangle Coloring\n",
    "\n",
    "Per-triangle coloring is a technique in mesh visualization where each triangular face is assigned a distinct color, rather than interpolating colors across vertices. This approach is useful for highlighting discrete regions, classifications, or categorical differences within a mesh. Unlike per-vertex coloring, which creates smooth transitions, per-triangle coloring results in sharp color boundaries that clearly delineate individual faces. It is particularly effective in applications such as segmentation maps, finite element analysis, and mesh debugging, where it is important to visually distinguish between separate elements or regions. In practice, this is achieved by assigning a scalar or label to each triangle and mapping it to a specific color using a color map.\n",
    "\n",
    "In the following example, we will color each triangle independently using per-face attributes."
   ]
  },
  {
   "cell_type": "code",
   "execution_count": 16,
   "id": "31841291-34b8-4596-81c4-18f713ea119c",
   "metadata": {},
   "outputs": [
    {
     "name": "stderr",
     "output_type": "stream",
     "text": [
      "C:\\Users\\arija\\anaconda3\\Lib\\site-packages\\traittypes\\traittypes.py:97: UserWarning: Given trait value dtype \"float64\" does not match required type \"float32\". A coerced copy has been created.\n",
      "  warnings.warn(\n"
     ]
    },
    {
     "data": {
      "application/vnd.jupyter.widget-view+json": {
       "model_id": "e82ba7d07c254b4b9ca514399d41be09",
       "version_major": 2,
       "version_minor": 0
      },
      "text/plain": [
       "Output()"
      ]
     },
     "metadata": {},
     "output_type": "display_data"
    }
   ],
   "source": [
    "# Each face gets a color: alternate red and blue\n",
    "face_colors = np.array([0xff0000 if i % 2 == 0 else 0x0000ff for i in range(len(indices))], dtype=np.uint32)\n",
    "\n",
    "plot = k3d.plot()\n",
    "mesh = k3d.mesh(vertices, indices, color_map=face_colors, wireframe=False, attribute_type='index')\n",
    "plot += mesh\n",
    "plot.display()\n"
   ]
  },
  {
   "cell_type": "markdown",
   "id": "7744a3df-97b9-4780-8594-f1b1d4ad3f95",
   "metadata": {},
   "source": [
    "Therefore, instead of coloring by vertex, you assign a color to each triangle (face), allowing for segmentation, classification, or grouping visualization."
   ]
  },
  {
   "cell_type": "markdown",
   "id": "5bdbe8f5-3494-4496-aad1-779d7bf865b0",
   "metadata": {},
   "source": [
    "## Example 5: Visualizing Vertex Normals as Arrows\n",
    "\n",
    "Vertex normals are vectors that represent the orientation of a surface at each vertex and are essential for realistic lighting and shading in 3D graphics. Visualizing these normals as arrows helps in understanding the surface geometry and verifying the correctness of mesh orientation. In this example, normals are computed as gradient vectors from the surface height and rendered using `k3d.vectors`, which draws arrows at each vertex pointing in the direction of the normal. This provides an intuitive visualization of how the surface curves and changes, making it easier to debug issues with shading, simulate physical interactions like wind or light reflection, or analyze geometric properties of the mesh.\n",
    "\n",
    "In the following example, we will compute and display normals on a mesh surface using k3d.vectors."
   ]
  },
  {
   "cell_type": "code",
   "execution_count": 19,
   "id": "d059efb7-e88d-4b7a-9a08-3bfd21c1dc8e",
   "metadata": {},
   "outputs": [
    {
     "data": {
      "application/vnd.jupyter.widget-view+json": {
       "model_id": "93b37a26d3534fc68cb5e2c3a2749f4e",
       "version_major": 2,
       "version_minor": 0
      },
      "text/plain": [
       "Output()"
      ]
     },
     "metadata": {},
     "output_type": "display_data"
    }
   ],
   "source": [
    "# Generate a bumpy surface\n",
    "x, y = np.meshgrid(np.linspace(-1, 1, 20), np.linspace(-1, 1, 20))\n",
    "z = np.sin(3 * x) * np.cos(3 * y)\n",
    "vertices = np.stack((x.ravel(), y.ravel(), z.ravel()), axis=1)\n",
    "\n",
    "# Build triangle indices\n",
    "faces = []\n",
    "res = x.shape[0]\n",
    "for i in range(res - 1):\n",
    "    for j in range(res - 1):\n",
    "        idx = i * res + j\n",
    "        faces.append([idx, idx + 1, idx + res])\n",
    "        faces.append([idx + 1, idx + res + 1, idx + res])\n",
    "indices = np.array(faces, dtype=np.uint32)\n",
    "\n",
    "# Approximate normals (finite difference gradient)\n",
    "normals = np.zeros_like(vertices)\n",
    "dx, dy = np.gradient(z)\n",
    "dz = np.ones_like(dx)\n",
    "normals[:, 0] = -dx.ravel()\n",
    "normals[:, 1] = -dy.ravel()\n",
    "normals[:, 2] = dz.ravel()\n",
    "\n",
    "# Normalize the vectors\n",
    "norms = np.linalg.norm(normals, axis=1, keepdims=True)\n",
    "normals /= (norms + 1e-8)\n",
    "\n",
    "# Display surface and normals\n",
    "plot = k3d.plot()\n",
    "plot += k3d.mesh(vertices.astype(np.float32), indices)\n",
    "plot += k3d.vectors(vertices.astype(np.float32), normals.astype(np.float32), scale=0.1, color=0xff0000)\n",
    "plot.display()"
   ]
  },
  {
   "cell_type": "markdown",
   "id": "cbe9aef3-c79d-450f-8518-89d4a25944aa",
   "metadata": {},
   "source": [
    "We have now learned how to calculate and visualize surface normals as vector fields."
   ]
  },
  {
   "cell_type": "markdown",
   "id": "77b93e4d-3635-46b1-8ab3-adf47370aac6",
   "metadata": {},
   "source": [
    "## Example 6: Gradient-Colored Mesh Using Distance from Center\n",
    "\n",
    "Coloring a mesh based on the distance of each vertex from a central point creates a visually intuitive radial gradient, which can highlight spatial relationships and symmetry within the geometry. In this example, the Euclidean distance from the origin (or any defined center) is computed for each vertex and used as a scalar attribute to determine color. The result is a smooth transition of color from the center outward, emphasizing depth, distance, or influence zones. This technique is especially useful in visualizing heatmaps, radial fields, proximity effects, or attention zones in simulations, user interaction models, or environmental analyses.\n",
    "\n",
    "In this example, we will color a mesh using the distance from the center point as an attribute."
   ]
  },
  {
   "cell_type": "code",
   "execution_count": 21,
   "id": "f5183549-4855-4e9a-b1da-2b92a3212626",
   "metadata": {},
   "outputs": [
    {
     "data": {
      "application/vnd.jupyter.widget-view+json": {
       "model_id": "ab1614ecd06f4f71a3776a0559f8cf6a",
       "version_major": 2,
       "version_minor": 0
      },
      "text/plain": [
       "Output()"
      ]
     },
     "metadata": {},
     "output_type": "display_data"
    }
   ],
   "source": [
    "import k3d\n",
    "import numpy as np\n",
    "\n",
    "# Create circular grid\n",
    "x, y = np.meshgrid(np.linspace(-2, 2, 50), np.linspace(-2, 2, 50))\n",
    "r = np.sqrt(x**2 + y**2)\n",
    "z = np.sin(r)\n",
    "\n",
    "vertices = np.stack((x.ravel(), y.ravel(), z.ravel()), axis=1)\n",
    "\n",
    "# Triangles\n",
    "faces = []\n",
    "res = x.shape[0]\n",
    "for i in range(res - 1):\n",
    "    for j in range(res - 1):\n",
    "        idx = i * res + j\n",
    "        faces.append([idx, idx + 1, idx + res])\n",
    "        faces.append([idx + 1, idx + res + 1, idx + res])\n",
    "indices = np.array(faces, dtype=np.uint32)\n",
    "\n",
    "# Attribute = distance from center (radial gradient)\n",
    "dist = np.sqrt(vertices[:, 0]**2 + vertices[:, 1]**2)\n",
    "attr = (dist - dist.min()) / (dist.ptp() + 1e-8) * 0xFFFFFF\n",
    "\n",
    "plot = k3d.plot()\n",
    "plot += k3d.mesh(vertices.astype(np.float32), indices, attribute=attr.astype(np.float32))\n",
    "plot.display()"
   ]
  },
  {
   "cell_type": "markdown",
   "id": "a9a7cb03-f343-4e87-bf89-5adb04d4486f",
   "metadata": {},
   "source": [
    "We have now seen how scalar attributes derived from geometry can produce radial or gradient-based color maps."
   ]
  },
  {
   "cell_type": "markdown",
   "id": "4b049712-034b-4aa0-b136-254916a13514",
   "metadata": {},
   "source": [
    "### Example 7: Animate a Breathing Surface (Waves)\n",
    "\n",
    "Animating a breathing surface using waves introduces dynamic visualization by modifying the mesh geometry over time. In this example, the Z-coordinates of the mesh vertices are continuously updated using a sine function that changes with each animation frame, creating a smooth pulsating or \"breathing\" effect. This type of animation simulates natural phenomena such as water ripples, oscillating membranes, or terrain deformations. It helps students understand how real-time updates to vertex positions can create the illusion of motion in a 3D environment. Moreover, it illustrates the powerful interplay between geometry and time in applications such as scientific simulations, procedural animation, and visual storytelling.\n",
    "\n",
    "In the following examplw, we will apply animated vertex displacements over time using sine waves."
   ]
  },
  {
   "cell_type": "code",
   "execution_count": 51,
   "id": "dd936cf4-171a-498e-bf7b-f62e16d39c56",
   "metadata": {},
   "outputs": [
    {
     "data": {
      "application/vnd.jupyter.widget-view+json": {
       "model_id": "dabbfe092de7417a81ac4aef25046845",
       "version_major": 2,
       "version_minor": 0
      },
      "text/plain": [
       "Output()"
      ]
     },
     "metadata": {},
     "output_type": "display_data"
    }
   ],
   "source": [
    "import time\n",
    "\n",
    "x, y = np.meshgrid(np.linspace(-2, 2, 50), np.linspace(-2, 2, 50))\n",
    "vertices_template = np.stack((x.ravel(), y.ravel(), np.zeros_like(x).ravel()), axis=1)\n",
    "\n",
    "faces = []\n",
    "res = x.shape[0]\n",
    "for i in range(res - 1):\n",
    "    for j in range(res - 1):\n",
    "        idx = i * res + j\n",
    "        faces.append([idx, idx + 1, idx + res])\n",
    "        faces.append([idx + 1, idx + res + 1, idx + res])\n",
    "indices = np.array(faces, dtype=np.uint32)\n",
    "\n",
    "# Create base mesh\n",
    "plot = k3d.plot()\n",
    "mesh = k3d.mesh(vertices_template.astype(np.float32), indices, wireframe=False)\n",
    "plot += mesh\n",
    "plot.display()\n",
    "\n",
    "# Animate \"breathing\"\n",
    "for t in range(100):\n",
    "    z = np.sin(np.sqrt(x**2 + y**2) * 4 - t * 0.1)\n",
    "    vertices = np.stack((x.ravel(), y.ravel(), z.ravel()), axis=1)\n",
    "    mesh.vertices = vertices.astype(np.float32)\n",
    "    time.sleep(0.05)"
   ]
  },
  {
   "cell_type": "markdown",
   "id": "9ac1bc28-175c-48cd-b578-06f5ac4fbeef",
   "metadata": {},
   "source": [
    "We have now animated the Z-coordinate of mesh vertices to simulate natural motion (breathing, pulsing, waves)."
   ]
  },
  {
   "cell_type": "markdown",
   "id": "8dfbdd60-ca38-42b2-9aab-3c4c17460a91",
   "metadata": {},
   "source": [
    "### Example 8: Simple Per-Vertex Colored Mesh\n",
    "\n",
    "A simple per-vertex colored mesh demonstrates how individual vertex colors can be used to control the appearance of a 3D surface. In this example, a square is constructed using four vertices and two triangles, and each vertex is assigned a specific color. When the mesh is rendered, the colors are smoothly interpolated across the surface of each triangle, creating a gradient effect between connected vertices. This approach is highly efficient and visually expressive, allowing for localized color control without complex shading or texture mapping. Per-vertex coloring is widely used in scientific visualization, modeling, and interactive graphics to represent data variation or region segmentation across a mesh.\n"
   ]
  },
  {
   "cell_type": "code",
   "execution_count": 80,
   "id": "cfe9d894-90be-41bd-bdbc-64a0da2fc50e",
   "metadata": {},
   "outputs": [
    {
     "data": {
      "application/vnd.jupyter.widget-view+json": {
       "model_id": "45407dde5f1342deb6acc74f3124229a",
       "version_major": 2,
       "version_minor": 0
      },
      "text/plain": [
       "Output()"
      ]
     },
     "metadata": {},
     "output_type": "display_data"
    }
   ],
   "source": [
    "# Create a simple square mesh made of two triangles\n",
    "vertices = np.array([\n",
    "    [0, 0, 0],\n",
    "    [1, 0, 0],\n",
    "    [1, 1, 0],\n",
    "    [0, 1, 0]\n",
    "], dtype=np.float32)\n",
    "\n",
    "indices = np.array([\n",
    "    [0, 1, 2],\n",
    "    [0, 2, 3]\n",
    "], dtype=np.uint32)\n",
    "\n",
    "# Assign per-vertex colors (green, green, red, red)\n",
    "# Each vertex has one color; shared vertices will blend between them\n",
    "colors = np.array([\n",
    "    0x00ff00,  # green\n",
    "    0x00ff00,  # green\n",
    "    0xff0000,  # red\n",
    "    0xff0000   # red\n",
    "], dtype=np.uint32)\n",
    "\n",
    "# Display the mesh\n",
    "plot = k3d.plot()\n",
    "mesh = k3d.mesh(\n",
    "    vertices=vertices,\n",
    "    indices=indices,\n",
    "    colors=colors\n",
    ")\n",
    "plot += mesh\n",
    "plot.display()"
   ]
  },
  {
   "cell_type": "markdown",
   "id": "38fcf3af-3c74-4559-a717-999f5c881aca",
   "metadata": {},
   "source": [
    "### Example 9. Assign More Than Two Colors (4 Unique Vertex Colors)\n",
    "\n",
    "Assigning more than two colors in a mesh allows for richer visual effects and better control over how color transitions appear across a surface. In this example, four vertices define the corners of a square mesh, and each vertex is assigned a distinct color: red, green, blue, and yellow. When rendered, K3D smoothly interpolates these colors across the triangular faces, creating gradients that visually blend the vertex colors. This technique is useful for demonstrating color interpolation, encoding categorical data at specific points, or simply enhancing the aesthetic of 3D visualizations. It also serves as a foundation for more advanced per-vertex shading and artistic effects in computer graphics.\n"
   ]
  },
  {
   "cell_type": "code",
   "execution_count": 83,
   "id": "539cebba-df0d-4d20-80c3-617ab472bfb7",
   "metadata": {},
   "outputs": [
    {
     "data": {
      "application/vnd.jupyter.widget-view+json": {
       "model_id": "9e7c8c4e69e0400bb8dbeb176d55f88f",
       "version_major": 2,
       "version_minor": 0
      },
      "text/plain": [
       "Output()"
      ]
     },
     "metadata": {},
     "output_type": "display_data"
    }
   ],
   "source": [
    "vertices = np.array([\n",
    "    [0, 0, 0],  # bottom-left\n",
    "    [1, 0, 0],  # bottom-right\n",
    "    [1, 1, 0],  # top-right\n",
    "    [0, 1, 0]   # top-left\n",
    "], dtype=np.float32)\n",
    "\n",
    "indices = np.array([\n",
    "    [0, 1, 2],\n",
    "    [0, 2, 3]\n",
    "], dtype=np.uint32)\n",
    "\n",
    "# Assign unique color to each vertex\n",
    "colors = np.array([\n",
    "    0xff0000,  # red\n",
    "    0x00ff00,  # green\n",
    "    0x0000ff,  # blue\n",
    "    0xffff00   # yellow\n",
    "], dtype=np.uint32)\n",
    "\n",
    "plot = k3d.plot()\n",
    "plot += k3d.mesh(vertices=vertices, indices=indices, colors=colors)\n",
    "plot.display()\n"
   ]
  },
  {
   "cell_type": "markdown",
   "id": "231002b7-4039-406a-9b52-922cff28cebc",
   "metadata": {},
   "source": [
    "This creates a quad mesh where each corner has a unique color — showing how gradients blend across the surface."
   ]
  },
  {
   "cell_type": "markdown",
   "id": "75c0b547-43e0-4190-bbe8-4976851326d5",
   "metadata": {},
   "source": [
    "Now we will use elevation (Z) to drive colors. Using elevation (Z-coordinate) to drive vertex colors is a powerful technique for visualizing scalar fields on 3D surfaces. In this approach, the height of each vertex is mapped to a color using a continuous gradient—typically from cool to warm colors—creating a visually intuitive representation of elevation or intensity. For example, lower points might appear blue while higher points shift toward red or yellow. This method is especially useful in applications such as terrain modeling, topographic mapping, and scientific simulations, where it provides immediate visual feedback about height variations or other scalar quantities distributed across a mesh."
   ]
  },
  {
   "cell_type": "code",
   "execution_count": 86,
   "id": "666ba86b-747b-461b-a013-164843146764",
   "metadata": {},
   "outputs": [
    {
     "data": {
      "application/vnd.jupyter.widget-view+json": {
       "model_id": "1954020fc73e49129f930b4b5ecfbd3e",
       "version_major": 2,
       "version_minor": 0
      },
      "text/plain": [
       "Output()"
      ]
     },
     "metadata": {},
     "output_type": "display_data"
    }
   ],
   "source": [
    "x, y = np.meshgrid(np.linspace(-1, 1, 20), np.linspace(-1, 1, 20))\n",
    "z = np.sin(np.pi * x) * np.cos(np.pi * y)\n",
    "vertices = np.stack([x.ravel(), y.ravel(), z.ravel()], axis=1)\n",
    "\n",
    "# Generate grid triangles\n",
    "faces = []\n",
    "res = x.shape[0]\n",
    "for i in range(res - 1):\n",
    "    for j in range(res - 1):\n",
    "        idx = i * res + j\n",
    "        faces.append([idx, idx + 1, idx + res])\n",
    "        faces.append([idx + 1, idx + res + 1, idx + res])\n",
    "faces = np.array(faces, dtype=np.uint32)\n",
    "\n",
    "# Map Z to color gradient (from blue to red)\n",
    "norm_z = (z.ravel() - z.min()) / (z.ptp() + 1e-8)\n",
    "colors = (norm_z * 0xFFFFFF).astype(np.uint32)\n",
    "\n",
    "plot = k3d.plot()\n",
    "plot += k3d.mesh(vertices=vertices.astype(np.float32), indices=faces, colors=colors)\n",
    "plot.display()\n"
   ]
  },
  {
   "cell_type": "markdown",
   "id": "7f0c3706-f9a6-49fb-add5-2412e74948ef",
   "metadata": {},
   "source": [
    "Finally, we will animate the Z-values over time to create a breathing/wave effect, while also updating colors based on Z.\n",
    "\n",
    "Animating the Z-values of a mesh over time introduces dynamic behavior into an otherwise static 3D surface. By periodically updating the height (Z-coordinate) of each vertex using a mathematical function like a sine wave, the surface appears to pulse or breathe, mimicking natural phenomena such as water ripples, soft tissue expansion, or wave propagation. Simultaneously updating the vertex colors based on the animated Z-values further enhances the effect, allowing users to visually track elevation changes in real time. This technique is ideal for illustrating time-dependent data, simulating physical behavior, or simply adding interactivity and life to a visualization."
   ]
  },
  {
   "cell_type": "code",
   "execution_count": 94,
   "id": "0d8937be-67de-43e1-aada-a4abfcb98407",
   "metadata": {},
   "outputs": [
    {
     "data": {
      "application/vnd.jupyter.widget-view+json": {
       "model_id": "35ce2be278bf4fa8a05921c2779899f6",
       "version_major": 2,
       "version_minor": 0
      },
      "text/plain": [
       "Output()"
      ]
     },
     "metadata": {},
     "output_type": "display_data"
    }
   ],
   "source": [
    "import time\n",
    "\n",
    "plot = k3d.plot()\n",
    "vertices_template = vertices.copy()\n",
    "\n",
    "# Start with a static mesh\n",
    "mesh = k3d.mesh(vertices=vertices_template.astype(np.float32), indices=faces)\n",
    "plot += mesh\n",
    "plot.display()\n",
    "\n",
    "# Animate waves and color\n",
    "for t in range(100):\n",
    "    z_wave = np.sin(np.pi * x + t * 0.1) * np.cos(np.pi * y + t * 0.1)\n",
    "    vertices_anim = np.stack([x.ravel(), y.ravel(), z_wave.ravel()], axis=1)\n",
    "\n",
    "    norm_z = (z_wave.ravel() - z_wave.min()) / (z_wave.ptp() + 1e-8)\n",
    "    colors = (norm_z * 0xFFFFFF).astype(np.uint32)\n",
    "\n",
    "    mesh.vertices = vertices_anim.astype(np.float32)\n",
    "    mesh.colors = colors\n",
    "    time.sleep(0.05)\n"
   ]
  },
  {
   "cell_type": "markdown",
   "id": "870fb8b8-b3ac-4d58-b4e2-3771f9e4c112",
   "metadata": {},
   "source": [
    "## Tasks"
   ]
  },
  {
   "cell_type": "markdown",
   "id": "5e4ca0d7-40a9-45fa-9723-febcdb7fdb5c",
   "metadata": {},
   "source": [
    "### Task 1. Build and Color a Custom Mesh\n",
    "\n",
    "Create a custom 3D mesh (e.g., a pyramid, cube, or terrain patch) using manual vertex and triangle definitions.\n",
    "Apply:\n",
    "- Per-vertex scalar attributes (e.g., height).\n",
    "- Per-face classification (e.g., assign face colors).\n",
    "- Toggle wireframe=True to debug your mesh structure.\n",
    "- Animate vertex heights over time (simulating waves or breathing)."
   ]
  },
  {
   "cell_type": "code",
   "execution_count": 1,
   "id": "ffd55a56",
   "metadata": {},
   "outputs": [
    {
     "data": {
      "application/vnd.jupyter.widget-view+json": {
       "model_id": "bdccd2155bae416f8d0b6f2e45ede6aa",
       "version_major": 2,
       "version_minor": 0
      },
      "text/plain": [
       "Output()"
      ]
     },
     "metadata": {},
     "output_type": "display_data"
    }
   ],
   "source": [
    "import k3d\n",
    "import numpy as np\n",
    "import time\n",
    "\n",
    "\n",
    "vertices = np.array([\n",
    "    [0, 0, 0],   \n",
    "    [1, 0, 0],   \n",
    "    [1, 1, 0],   \n",
    "    [0, 1, 0],   \n",
    "    [0.5, 0.5, 1]  \n",
    "], dtype=np.float32)\n",
    "\n",
    "indices = np.array([\n",
    "    [0, 1, 4],  \n",
    "    [1, 2, 4],  \n",
    "    [2, 3, 4],  \n",
    "    [3, 0, 4],  \n",
    "    [0, 1, 2],  \n",
    "    [0, 2, 3],  \n",
    "], dtype=np.uint32)\n",
    "\n",
    "\n",
    "heights = vertices[:, 2]  # Z coordinate as height\n",
    "vertex_attr = (heights - heights.min()) / (heights.ptp() + 1e-8) * 0xFFFFFF\n",
    "\n",
    "\n",
    "face_colors = np.array([\n",
    "    0xff0000,  # side 1 - red\n",
    "    0x0000ff,  # side 2 - blue\n",
    "    0xff0000,  # side 3 - red\n",
    "    0x0000ff,  # side 4 - blue\n",
    "    0x00ff00,  # base 1 - green\n",
    "    0x00ff00,  # base 2 - green\n",
    "], dtype=np.uint32)\n",
    "\n",
    "\n",
    "plot = k3d.plot()\n",
    "mesh = k3d.mesh(\n",
    "    vertices=vertices.astype(np.float32),\n",
    "    indices=indices,\n",
    "    attribute=vertex_attr.astype(np.float32),\n",
    "    color_map=face_colors,\n",
    "    attribute_type='index',\n",
    "    wireframe=True \n",
    ")\n",
    "plot += mesh\n",
    "plot.display()\n",
    "\n",
    "time.sleep(1)\n",
    "\n",
    "\n",
    "for t in range(100):\n",
    "    new_vertices = vertices.copy()\n",
    "    new_vertices[4, 2] = 1 + 0.3 * np.sin(t * 0.1)\n",
    "    heights = new_vertices[:, 2]\n",
    "    vertex_attr = (heights - heights.min()) / (heights.ptp() + 1e-8) * 0xFFFFFF\n",
    "    mesh.vertices = new_vertices.astype(np.float32)\n",
    "    mesh.attribute = vertex_attr.astype(np.float32)\n",
    "    time.sleep(0.05)\n"
   ]
  },
  {
   "cell_type": "markdown",
   "id": "17dea14d-74a8-4b5c-a659-2a54cb583128",
   "metadata": {},
   "source": [
    "### Task 2. Visualize a Custom Terrain with Height-Based Coloring\n",
    "\n",
    "Create a terrain mesh using a custom height function and visualize it with a color gradient based on elevation (Z).\n",
    "\n",
    "Steps:\n",
    "- Use np.meshgrid to create a 2D grid of X and Y values.\n",
    "- Define a Z function, such as Z = sin(X) * cos(Y) or any other creative wave.\n",
    "- Stack X, Y, and Z into a vertices array.\n",
    "- Create triangle indices manually from the grid.\n",
    "- Normalize Z-values and convert them into color values.\n",
    "- Visualize the mesh using k3d.mesh(vertices, indices, colors=...).\n",
    "\n",
    "As outcome you should obtain a colorful 3D terrain where elevation is encoded visually, helping students understand how scalar data maps to color."
   ]
  },
  {
   "cell_type": "code",
   "execution_count": 2,
   "id": "1484906c",
   "metadata": {},
   "outputs": [
    {
     "data": {
      "application/vnd.jupyter.widget-view+json": {
       "model_id": "3f5d01df4cb14242b07e6a8e91342bae",
       "version_major": 2,
       "version_minor": 0
      },
      "text/plain": [
       "Output()"
      ]
     },
     "metadata": {},
     "output_type": "display_data"
    }
   ],
   "source": [
    "import numpy as np\n",
    "import matplotlib.pyplot as plt\n",
    "from matplotlib import cm\n",
    "from mpl_toolkits.mplot3d import Axes3D\n",
    "from mpl_toolkits.mplot3d.art3d import Poly3DCollection\n",
    "import matplotlib.colors as colors\n",
    "\n",
    "grid_size = 30  \n",
    "x = np.linspace(-3, 3, grid_size)\n",
    "y = np.linspace(-3, 3, grid_size)\n",
    "X, Y = np.meshgrid(x, y)\n",
    "\n",
    "Z = 0.5 * np.sin(X) * np.cos(Y) + 0.2 * np.sin(3*X) + 0.3 * np.cos(2*Y)\n",
    "\n",
    "vertices = np.vstack([X.flatten(), Y.flatten(), Z.flatten()]).T\n",
    "\n",
    "triangles = []\n",
    "for i in range(grid_size-1):\n",
    "    for j in range(grid_size-1):\n",
    "        p1 = i * grid_size + j\n",
    "        p2 = i * grid_size + j + 1\n",
    "        p3 = (i + 1) * grid_size + j + 1\n",
    "        p4 = (i + 1) * grid_size + j\n",
    "        \n",
    "        triangles.append([p1, p2, p3])  \n",
    "        triangles.append([p1, p3, p4])  \n",
    "\n",
    "triangles = np.array(triangles)\n",
    "\n",
    "z_min, z_max = Z.min(), Z.max()\n",
    "z_normalized = (Z.flatten() - z_min) / (z_max - z_min)\n",
    "\n",
    "fig = plt.figure(figsize=(12, 10))\n",
    "plt.subplots_adjust(top=0.9)\n",
    "fig.suptitle('Custom Terrain with Height-Based Coloring', fontsize=16)\n",
    "ax = fig.add_subplot(111, projection='3d')\n",
    "\n",
    "mesh = []\n",
    "face_colors = []\n",
    "cmap = plt.cm.terrain \n",
    "\n",
    "for triangle in triangles:\n",
    "    triangle_vertices = vertices[triangle]\n",
    "    mesh.append(triangle_vertices)\n",
    "    \n",
    "    avg_z = np.mean(Z.flatten()[triangle])\n",
    "    color_val = (avg_z - z_min) / (z_max - z_min)\n",
    "    face_colors.append(cmap(color_val))\n",
    "\n",
    "terrain = Poly3DCollection(mesh, alpha=1.0)\n",
    "terrain.set_facecolors(face_colors)\n",
    "ax.add_collection3d(terrain)\n",
    "\n",
    "ax.set_xlim(x.min(), x.max())\n",
    "ax.set_ylim(y.min(), y.max())\n",
    "ax.set_zlim(Z.min(), Z.max())\n",
    "ax.set_xlabel('X')\n",
    "ax.set_ylabel('Y')\n",
    "ax.set_zlabel('Elevation (Z)')\n",
    "\n",
    "norm = colors.Normalize(vmin=z_min, vmax=z_max)\n",
    "sm = plt.cm.ScalarMappable(cmap=cmap, norm=norm)\n",
    "sm.set_array([])\n",
    "fig.colorbar(sm, ax=ax, shrink=0.5, aspect=5, label='Elevation')\n",
    "\n",
    "view_elev = 30\n",
    "view_azim = 45\n",
    "\n",
    "def on_rotate(event):\n",
    "    global view_elev, view_azim\n",
    "    if hasattr(ax, 'elev') and ax.elev is not None:\n",
    "        view_elev = ax.elev\n",
    "    if hasattr(ax, 'azim') and ax.azim is not None:\n",
    "        view_azim = ax.azim\n",
    "\n",
    "fig.canvas.mpl_connect('motion_notify_event', on_rotate)\n",
    "\n",
    "plt.show()"
   ]
  },
  {
   "cell_type": "markdown",
   "id": "280da463-610f-4a32-b951-0ef558c9f750",
   "metadata": {},
   "source": [
    "### Task 3. Segment a Mesh into 4 Colored Regions\n",
    "\n",
    "Divide a square mesh into four quadrants and assign each region a unique color using per-vertex coloring.\n",
    "Steps:\n",
    "- Generate a flat 2D grid using np.meshgrid.\n",
    "- Create vertex coordinates and triangle indices.\n",
    "- Determine the quadrant of each vertex based on (x, y) positions.\n",
    "- Assign one of four colors (e.g., red, green, blue, yellow) to each vertex based on its region.\n",
    "- Visualize the result using k3d.mesh with colors= argument.\n",
    "\n",
    "As outcome you should obtain a flat square mesh with four visually distinct colored regions, reinforcing how vertex colors affect rendering."
   ]
  },
  {
   "cell_type": "markdown",
   "id": "a48a62ef-3cef-4be1-9819-d9fe304c0424",
   "metadata": {},
   "source": [
    "### Task 4: Create an Animated Breathing Surface\n",
    "\n",
    "Animate a mesh surface by updating Z-values over time to simulate a breathing or wave-like effect.\n",
    "Steps:\n",
    "- Start with a static grid mesh (vertices and triangle indices).\n",
    "- In a loop, update the Z-values using a time-dependent sine function.\n",
    "- Recalculate vertex positions and update mesh.vertices.\n",
    "- Update vertex colors using normalized Z values.\n",
    "- Add a short time.sleep() to simulate animation.\n",
    "\n",
    "As outcome you should obtain a dynamic, pulsing surface where height and color both change over time — ideal for understanding animation and scalar mapping.\n",
    "\n"
   ]
  },
  {
   "cell_type": "markdown",
   "id": "721efb3b-4960-4b81-b14d-3f2623949522",
   "metadata": {},
   "source": [
    "### Task 5: Build a Mesh with a Central Peak and Visual Gradient\n",
    "\n",
    "Create a radial mesh with a central peak and visualize a smooth color gradient from center to edges based on distance.\n",
    "Steps:\n",
    "- Create a grid of (x, y) values from -1 to 1.\n",
    "- Define Z as a Gaussian bump (e.g., Z = exp(-r^2), where r = sqrt(x² + y²)).\n",
    "- Stack the coordinates into a vertex array.\n",
    "- Build triangle indices for the grid.\n",
    "- Calculate distances from center and convert them into a smooth color gradient.\n",
    "- Use colors= in k3d.mesh to apply the coloring.\n",
    "\n",
    "As outcome you should obtain a visually appealing 3D bump mesh with color radiating from the center outward, illustrating distance-based coloring."
   ]
  }
 ],
 "metadata": {
  "kernelspec": {
   "display_name": "Python 3 (ipykernel)",
   "language": "python",
   "name": "python3"
  },
  "language_info": {
   "codemirror_mode": {
    "name": "ipython",
    "version": 3
   },
   "file_extension": ".py",
   "mimetype": "text/x-python",
   "name": "python",
   "nbconvert_exporter": "python",
   "pygments_lexer": "ipython3",
   "version": "3.12.3"
  }
 },
 "nbformat": 4,
 "nbformat_minor": 5
}
